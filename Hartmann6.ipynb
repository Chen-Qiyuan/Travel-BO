{
 "cells": [
  {
   "cell_type": "code",
   "execution_count": null,
   "metadata": {
    "colab": {
     "base_uri": "https://localhost:8080/"
    },
    "executionInfo": {
     "elapsed": 745,
     "status": "ok",
     "timestamp": 1755551866400,
     "user": {
      "displayName": "Qiyuan Chen",
      "userId": "16690742846273632988"
     },
     "user_tz": 240
    },
    "id": "HzyFkRD7FjHO",
    "outputId": "210efebd-edac-4b85-da29-19f4ef84725c"
   },
   "outputs": [],
   "source": [
    "from google.colab import drive\n",
    "drive.mount('/content/drive')\n",
    "# Create a folder in your Google Drive (if it doesn't exist)\n",
    "!mkdir -p /content/drive/MyDrive/TravelBO/Hartmann6\n",
    "print(\"Below is a list of finished benchmarks.\")\n",
    "!ls /content/drive/MyDrive/TravelBO/Hartmann6"
   ]
  },
  {
   "cell_type": "code",
   "execution_count": null,
   "metadata": {
    "colab": {
     "base_uri": "https://localhost:8080/"
    },
    "executionInfo": {
     "elapsed": 101056,
     "status": "ok",
     "timestamp": 1755520293702,
     "user": {
      "displayName": "Qiyuan Chen",
      "userId": "16690742846273632988"
     },
     "user_tz": 240
    },
    "id": "z7CJ2nReOFPo",
    "outputId": "06b70c5f-e6d1-403f-d3c2-f6548ebd3842"
   },
   "outputs": [],
   "source": [
    "!pip install -q botorch==0.13.0"
   ]
  },
  {
   "cell_type": "code",
   "execution_count": null,
   "metadata": {
    "colab": {
     "base_uri": "https://localhost:8080/"
    },
    "executionInfo": {
     "elapsed": 3289,
     "status": "ok",
     "timestamp": 1755520297004,
     "user": {
      "displayName": "Qiyuan Chen",
      "userId": "16690742846273632988"
     },
     "user_tz": 240
    },
    "id": "uFMb4qA2TJr8",
    "outputId": "d6a774d4-94db-4ee6-a9d9-53f1b5b31b81"
   },
   "outputs": [],
   "source": [
    "!wget https://raw.githubusercontent.com/Chen-Qiyuan/Travel-BO/refs/heads/main/main/hartmann6/TUCB.py\n",
    "!wget https://raw.githubusercontent.com/Chen-Qiyuan/Travel-BO/refs/heads/main/main/hartmann6/UCB.py\n",
    "!wget https://raw.githubusercontent.com/Chen-Qiyuan/Travel-BO/refs/heads/main/main/hartmann6/TTS.py\n",
    "!wget https://raw.githubusercontent.com/Chen-Qiyuan/Travel-BO/refs/heads/main/main/hartmann6/TS.py\n",
    "!wget https://raw.githubusercontent.com/Chen-Qiyuan/Travel-BO/refs/heads/main/main/hartmann6/GS.py\n",
    "!wget https://raw.githubusercontent.com/Chen-Qiyuan/Travel-BO/refs/heads/main/main/hartmann6/RS.py\n",
    "!wget https://raw.githubusercontent.com/Chen-Qiyuan/Travel-BO/refs/heads/main/main/hartmann6/TuRBO.py\n",
    "!wget https://raw.githubusercontent.com/Chen-Qiyuan/Travel-BO/refs/heads/main/main/hartmann6/LHS.py\n",
    "!wget https://raw.githubusercontent.com/Chen-Qiyuan/Travel-BO/refs/heads/main/main/hartmann6/SnAKe.py\n",
    "!wget https://raw.githubusercontent.com/Chen-Qiyuan/Travel-BO/refs/heads/main/main/hartmann6/MINI.py\n",
    "!wget https://raw.githubusercontent.com/Chen-Qiyuan/Travel-BO/refs/heads/main/main/hartmann6/LA.py\n",
    "!wget https://raw.githubusercontent.com/Chen-Qiyuan/Travel-BO/refs/heads/main/main/hartmann6/figure.py"
   ]
  },
  {
   "cell_type": "code",
   "execution_count": null,
   "metadata": {
    "colab": {
     "base_uri": "https://localhost:8080/"
    },
    "executionInfo": {
     "elapsed": 8,
     "status": "ok",
     "timestamp": 1755551875665,
     "user": {
      "displayName": "Qiyuan Chen",
      "userId": "16690742846273632988"
     },
     "user_tz": 240
    },
    "id": "z0MXTIHTkjf8",
    "outputId": "16100107-f3da-4397-ce2e-91c97a8f80fb"
   },
   "outputs": [],
   "source": [
    "import os\n",
    "import subprocess\n",
    "import shutil\n",
    "import sys\n",
    "\n",
    "def generate_if_needed(algo_name):\n",
    "  script_path = algo_name + \".py\"\n",
    "  output_filename1 = algo_name + \"_travel.xlsx\"\n",
    "  output_filename2 = algo_name + \"_reg.xlsx\"\n",
    "  destination_folder = \"/content/drive/MyDrive/TravelBO/Hartmann6/\"\n",
    "\n",
    "  # Check if the file already exists\n",
    "  if os.path.exists(os.path.join(destination_folder, output_filename1)):\n",
    "    print(f\"'{algo_name}' already finished. Skipping.\")\n",
    "    return\n",
    "\n",
    "  # If the file does not exist, proceed with generation and copying\n",
    "  print(f\"Running {algo_name}...\")\n",
    "\n",
    "  # Use subprocess to run the external script\n",
    "  subprocess.run([sys.executable, script_path], check=True, text=True)\n",
    "\n",
    "  print(f\"Copying '{output_filename1}' to Google Drive...\")\n",
    "  os.makedirs(destination_folder, exist_ok=True)\n",
    "  shutil.copy(os.path.join('/content/', output_filename1), os.path.join(destination_folder, output_filename1))\n",
    "\n",
    "  print(f\"Copying '{output_filename2}' to Google Drive...\")\n",
    "  os.makedirs(destination_folder, exist_ok=True)\n",
    "  shutil.copy(os.path.join('/content/', output_filename2), os.path.join(destination_folder, output_filename2))\n",
    "\n",
    "for algo_name in [\"TS\", \"TTS\", \"UCB\", \"TUCB\", \"MINI\", \"RS\", \"LHS\", \"TuRBO\", \"GS\", \"SnAKe\", \"LA\"]:\n",
    "  generate_if_needed(algo_name)"
   ]
  },
  {
   "cell_type": "code",
   "execution_count": null,
   "metadata": {
    "colab": {
     "base_uri": "https://localhost:8080/",
     "height": 1000
    },
    "executionInfo": {
     "elapsed": 2408,
     "status": "ok",
     "timestamp": 1755551882165,
     "user": {
      "displayName": "Qiyuan Chen",
      "userId": "16690742846273632988"
     },
     "user_tz": 240
    },
    "id": "nPUoYhqjA1g4",
    "outputId": "795bb5d6-08e8-4eb0-ea1f-3c3c4bbaed9c"
   },
   "outputs": [],
   "source": [
    "import os\n",
    "import glob\n",
    "import pandas as pd\n",
    "import numpy as np\n",
    "import matplotlib.pyplot as plt\n",
    "from cycler import cycler\n",
    "# Below is copy and pasted from plot.ipynb\n",
    "def plot_from_files():\n",
    "    plt.rcParams['axes.prop_cycle'] = cycler('color', plt.colormaps['tab20'].colors)\n",
    "    workspace = \"/content/drive/MyDrive/TravelBO/Hartmann6\"\n",
    "    desired_order = [\n",
    "        \"GS\", \"LA\", \"LHS\", \"MINI\", \"RS\", \"SnAKe\", \"TS\", \"TTS\", \"TUCB\", \"TuRBO\", \"UCB\"\n",
    "    ]\n",
    "\n",
    "    print(\"--- Generating Regret Plot ---\")\n",
    "\n",
    "    # Get all files from the directory\n",
    "    all_files_reg = glob.glob(os.path.join(workspace, '*_reg.xlsx'))\n",
    "    print(f\"Found {len(all_files_reg)} regret files.\")\n",
    "\n",
    "    # Create a new list of files sorted according to desired_order\n",
    "    reordered_files_reg = []\n",
    "    for algo_name in desired_order:\n",
    "        expected_file = os.path.join(workspace, f\"{algo_name}_reg.xlsx\")\n",
    "        if expected_file in all_files_reg:\n",
    "            reordered_files_reg.append(expected_file)\n",
    "\n",
    "    # Plot using the reordered list\n",
    "    fig1, ax1 = plt.subplots(figsize=(10, 6))\n",
    "\n",
    "    for file in reordered_files_reg:\n",
    "        df = pd.read_excel(file)[:200]\n",
    "        cumulative_regret = df.cumsum()\n",
    "        t = cumulative_regret.index + 1\n",
    "        average_regret = cumulative_regret.div(t, axis=0)\n",
    "        mean = average_regret.mean(axis=1)\n",
    "        std = average_regret.std(axis=1) / np.sqrt(10)\n",
    "\n",
    "        # Extract name and plot with the 'label' keyword\n",
    "        algorithm_name = os.path.basename(file).replace('_reg.xlsx', '')\n",
    "        ax1.plot(mean, label=algorithm_name)\n",
    "        ax1.fill_between(range(len(mean)), mean - std, mean + std, alpha=0.2)\n",
    "\n",
    "    # Format plot\n",
    "    ax1.set_xlabel('Round (t)', fontsize=16)\n",
    "    ax1.set_ylabel('Log Average Cumulative Regret log$(R_t/t)$', fontsize=16)\n",
    "    ax1.legend(fontsize=14, loc='lower left')\n",
    "    ax1.set_xlim(0, 200)\n",
    "    ax1.grid(True)\n",
    "    ax1.set_yscale(\"log\")\n",
    "\n",
    "    for tick in ax1.get_yticklabels(which='both'):\n",
    "        tick.set_rotation(90)\n",
    "        tick.set_ha('center')\n",
    "        tick.set_va('center')\n",
    "\n",
    "    plt.tight_layout()\n",
    "    plt.savefig(os.path.join(\"Figures\", os.path.basename(workspace.rstrip('/\\\\')) + \"_regret.pdf\"), dpi=600)\n",
    "    plt.show()\n",
    "\n",
    "    print(\"\\n--- Generating Travel Cost Plot ---\")\n",
    "\n",
    "    # Get all travel files\n",
    "    all_files_travel = glob.glob(os.path.join(workspace, '*_travel.xlsx'))\n",
    "    print(f\"Found {len(all_files_travel)} travel files.\")\n",
    "\n",
    "    # Create a reordered list for the travel files\n",
    "    reordered_files_travel = []\n",
    "    for algo_name in desired_order:\n",
    "        expected_file = os.path.join(workspace, f\"{algo_name}_travel.xlsx\")\n",
    "        if expected_file in all_files_travel:\n",
    "            reordered_files_travel.append(expected_file)\n",
    "\n",
    "    # Plot using the reordered list\n",
    "    fig2, ax2 = plt.subplots(figsize=(10, 6))\n",
    "\n",
    "    for file in reordered_files_travel:\n",
    "        df = pd.read_excel(file)[:200]\n",
    "        cumulative_regret = df.cumsum()\n",
    "        t = cumulative_regret.index + 1\n",
    "        average_regret = cumulative_regret.div(t, axis=0)\n",
    "        mean = average_regret.mean(axis=1)\n",
    "        std = average_regret.std(axis=1) / np.sqrt(10)\n",
    "\n",
    "        # Extract name and plot with the 'label' keyword\n",
    "        algorithm_name = os.path.basename(file).replace('_travel.xlsx', '')\n",
    "        ax2.plot(mean, label=algorithm_name)\n",
    "        ax2.fill_between(range(len(mean)), mean - std, mean + std, alpha=0.2)\n",
    "\n",
    "    # Format plot\n",
    "    ax2.set_xlabel('Round (t)', fontsize=16)\n",
    "    ax2.set_ylabel('Average Movement Cost $C_t/t$', fontsize=16)\n",
    "    ax2.legend(fontsize=14, loc='lower left')\n",
    "    ax2.set_xlim(0, 200)\n",
    "    ax2.grid(True)\n",
    "    plt.tight_layout()\n",
    "    plt.savefig(os.path.join(\"Figures\", os.path.basename(workspace.rstrip('/\\\\')) + \"_cost.pdf\"), dpi=600)\n",
    "    plt.show()\n",
    "\n",
    "# Create the \"Figures\" directory if it doesn't exist\n",
    "os.makedirs(\"Figures\", exist_ok=True)\n",
    "\n",
    "plot_from_files()"
   ]
  }
 ],
 "metadata": {
  "colab": {
   "machine_shape": "hm",
   "provenance": [
    {
     "file_id": "1LZf3Y7XCGVRwi-sLiGr7zCy6jP2PFFYm",
     "timestamp": 1755461010122
    },
    {
     "file_id": "1H_HezuM8e0HaBmULVS9azz-ao7Jp1mvk",
     "timestamp": 1755454036471
    }
   ]
  },
  "kernelspec": {
   "display_name": "Python 3",
   "name": "python3"
  },
  "language_info": {
   "name": "python"
  }
 },
 "nbformat": 4,
 "nbformat_minor": 0
}
